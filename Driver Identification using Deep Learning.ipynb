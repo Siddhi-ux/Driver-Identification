{
 "cells": [
  {
   "cell_type": "code",
   "execution_count": 1,
   "id": "8ef13fd9",
   "metadata": {},
   "outputs": [
    {
     "data": {
      "text/html": [
       "<style>#sk-container-id-1 {color: black;background-color: white;}#sk-container-id-1 pre{padding: 0;}#sk-container-id-1 div.sk-toggleable {background-color: white;}#sk-container-id-1 label.sk-toggleable__label {cursor: pointer;display: block;width: 100%;margin-bottom: 0;padding: 0.3em;box-sizing: border-box;text-align: center;}#sk-container-id-1 label.sk-toggleable__label-arrow:before {content: \"▸\";float: left;margin-right: 0.25em;color: #696969;}#sk-container-id-1 label.sk-toggleable__label-arrow:hover:before {color: black;}#sk-container-id-1 div.sk-estimator:hover label.sk-toggleable__label-arrow:before {color: black;}#sk-container-id-1 div.sk-toggleable__content {max-height: 0;max-width: 0;overflow: hidden;text-align: left;background-color: #f0f8ff;}#sk-container-id-1 div.sk-toggleable__content pre {margin: 0.2em;color: black;border-radius: 0.25em;background-color: #f0f8ff;}#sk-container-id-1 input.sk-toggleable__control:checked~div.sk-toggleable__content {max-height: 200px;max-width: 100%;overflow: auto;}#sk-container-id-1 input.sk-toggleable__control:checked~label.sk-toggleable__label-arrow:before {content: \"▾\";}#sk-container-id-1 div.sk-estimator input.sk-toggleable__control:checked~label.sk-toggleable__label {background-color: #d4ebff;}#sk-container-id-1 div.sk-label input.sk-toggleable__control:checked~label.sk-toggleable__label {background-color: #d4ebff;}#sk-container-id-1 input.sk-hidden--visually {border: 0;clip: rect(1px 1px 1px 1px);clip: rect(1px, 1px, 1px, 1px);height: 1px;margin: -1px;overflow: hidden;padding: 0;position: absolute;width: 1px;}#sk-container-id-1 div.sk-estimator {font-family: monospace;background-color: #f0f8ff;border: 1px dotted black;border-radius: 0.25em;box-sizing: border-box;margin-bottom: 0.5em;}#sk-container-id-1 div.sk-estimator:hover {background-color: #d4ebff;}#sk-container-id-1 div.sk-parallel-item::after {content: \"\";width: 100%;border-bottom: 1px solid gray;flex-grow: 1;}#sk-container-id-1 div.sk-label:hover label.sk-toggleable__label {background-color: #d4ebff;}#sk-container-id-1 div.sk-serial::before {content: \"\";position: absolute;border-left: 1px solid gray;box-sizing: border-box;top: 0;bottom: 0;left: 50%;z-index: 0;}#sk-container-id-1 div.sk-serial {display: flex;flex-direction: column;align-items: center;background-color: white;padding-right: 0.2em;padding-left: 0.2em;position: relative;}#sk-container-id-1 div.sk-item {position: relative;z-index: 1;}#sk-container-id-1 div.sk-parallel {display: flex;align-items: stretch;justify-content: center;background-color: white;position: relative;}#sk-container-id-1 div.sk-item::before, #sk-container-id-1 div.sk-parallel-item::before {content: \"\";position: absolute;border-left: 1px solid gray;box-sizing: border-box;top: 0;bottom: 0;left: 50%;z-index: -1;}#sk-container-id-1 div.sk-parallel-item {display: flex;flex-direction: column;z-index: 1;position: relative;background-color: white;}#sk-container-id-1 div.sk-parallel-item:first-child::after {align-self: flex-end;width: 50%;}#sk-container-id-1 div.sk-parallel-item:last-child::after {align-self: flex-start;width: 50%;}#sk-container-id-1 div.sk-parallel-item:only-child::after {width: 0;}#sk-container-id-1 div.sk-dashed-wrapped {border: 1px dashed gray;margin: 0 0.4em 0.5em 0.4em;box-sizing: border-box;padding-bottom: 0.4em;background-color: white;}#sk-container-id-1 div.sk-label label {font-family: monospace;font-weight: bold;display: inline-block;line-height: 1.2em;}#sk-container-id-1 div.sk-label-container {text-align: center;}#sk-container-id-1 div.sk-container {/* jupyter's `normalize.less` sets `[hidden] { display: none; }` but bootstrap.min.css set `[hidden] { display: none !important; }` so we also need the `!important` here to be able to override the default hidden behavior on the sphinx rendered scikit-learn.org. See: https://github.com/scikit-learn/scikit-learn/issues/21755 */display: inline-block !important;position: relative;}#sk-container-id-1 div.sk-text-repr-fallback {display: none;}</style><div id=\"sk-container-id-1\" class=\"sk-top-container\"><div class=\"sk-text-repr-fallback\"><pre>OneClassSVM(gamma=0.1, nu=0.1)</pre><b>In a Jupyter environment, please rerun this cell to show the HTML representation or trust the notebook. <br />On GitHub, the HTML representation is unable to render, please try loading this page with nbviewer.org.</b></div><div class=\"sk-container\" hidden><div class=\"sk-item\"><div class=\"sk-estimator sk-toggleable\"><input class=\"sk-toggleable__control sk-hidden--visually\" id=\"sk-estimator-id-1\" type=\"checkbox\" checked><label for=\"sk-estimator-id-1\" class=\"sk-toggleable__label sk-toggleable__label-arrow\">OneClassSVM</label><div class=\"sk-toggleable__content\"><pre>OneClassSVM(gamma=0.1, nu=0.1)</pre></div></div></div></div></div>"
      ],
      "text/plain": [
       "OneClassSVM(gamma=0.1, nu=0.1)"
      ]
     },
     "execution_count": 1,
     "metadata": {},
     "output_type": "execute_result"
    }
   ],
   "source": [
    "import pandas as pd\n",
    "%matplotlib inline\n",
    "import matplotlib.pyplot as plt\n",
    "import seaborn as sns; sns.set()  # for plot styling\n",
    "import numpy as np\n",
    "data=pd.read_csv('full_data_test.csv')\n",
    "columns2=[\"Long_Term_Fuel_Trim_Bank1\",\"Intake_air_pressure\",\"Accelerator_Pedal_value\",\"Fuel_consumption\",\"Torque_of_friction\",\"Maximum_indicated_engine_torque\",\"Engine_torque\",\"Calculated_LOAD_value\",\n",
    "\"Activation_of_Air_compressor\",\"Engine_coolant_temperature\",\"Transmission_oil_temperature\",\"Wheel_velocity_front_left-hand\",\"Wheel_velocity_front_right-hand\",\"Wheel_velocity_rear_left-hand\",\n",
    "\"Torque_converter_speed\"]\n",
    "from sklearn import svm\n",
    "ano_det = svm.OneClassSVM(nu=0.1, kernel=\"rbf\", gamma=0.1)\n",
    "ano_det.fit(data[columns2])\n"
   ]
  },
  {
   "cell_type": "code",
   "execution_count": 4,
   "id": "936c0662",
   "metadata": {},
   "outputs": [
    {
     "name": "stdout",
     "output_type": "stream",
     "text": [
      "Driver : 0 number of trips :4  For Train : 3  For valid :1\n",
      "Driver : 1 number of trips :6  For Train : 5  For valid :1\n",
      "Driver : 2 number of trips :4  For Train : 3  For valid :1\n",
      "Driver : 3 number of trips :6  For Train : 5  For valid :1\n",
      "Driver : 4 number of trips :4  For Train : 3  For valid :1\n",
      "Driver : 5 number of trips :4  For Train : 3  For valid :1\n",
      "Driver : 6 number of trips :4  For Train : 3  For valid :1\n",
      "Driver : 7 number of trips :4  For Train : 3  For valid :1\n",
      "Driver : 8 number of trips :4  For Train : 3  For valid :1\n",
      "Driver : 9 number of trips :4  For Train : 3  For valid :1\n",
      "total is 1551\n",
      "(1551, 60, 15)\n"
     ]
    }
   ],
   "source": [
    "classes=['A','B','C','D','E','F','G','H','I','J']\n",
    "drivers =[]\n",
    "for c in classes:\n",
    "    drivers.append(data[data['Class']==c])\n",
    "dataa=[]\n",
    "for c in range(len(drivers)):\n",
    "    nt=0\n",
    "    nv=0\n",
    "    drivers[c]=drivers[c].reset_index(drop=True)\n",
    "    idxs=drivers[c][drivers[c]['Time(s)']==1].index.values\n",
    "    for i in range(len(idxs)):\n",
    "      if i <(len(idxs)-1):\n",
    "        nt=nt+1\n",
    "        dataa.append(drivers[c][idxs[i]:idxs[i+1]])\n",
    "      if i==(len(idxs)-1):\n",
    "        nv=nv+1\n",
    "        dataa.append(drivers[c][idxs[i]:])\n",
    "    print(\"Driver : \"+str(c)+\" number of trips :\"+str(len(idxs))+ \"  For Train : \"+str(nt)+\"  For valid :\"+str(nv))\n",
    "    \n",
    "drivers=[]\n",
    "ss=0\n",
    "for i in range(len(dataa)):\n",
    "    #print(n)\n",
    "    n=int(len(dataa[i])/60)\n",
    "    #print(\" Drive \"+str(i)+\" contains \"+str(n)+\" subdriversets\")\n",
    "    dd=0\n",
    "    for j in range(n):\n",
    "        #print(j)\n",
    "        temp=dataa[i][dd:dd+60]\n",
    "        temp=temp.reset_index(drop=True)\n",
    "        drivers.append(temp)\n",
    "        ss=ss+1\n",
    "        dd=dd+60\n",
    "print(\"total is \"+str(ss))\n",
    "samples = list()\n",
    "labels=list()\n",
    "from sklearn.preprocessing import StandardScaler\n",
    "scaler = StandardScaler()\n",
    "scaler.fit(data[columns2].values)\n",
    "for c in drivers:\n",
    "    labels.append(c['Class'][0])\n",
    "    del c['Class']\n",
    "    del c['Time(s)']\n",
    "    samples.append(scaler.transform(c[columns2].values))\n",
    "data = np.array(samples)\n",
    "print(data.shape)\n",
    "\n"
   ]
  },
  {
   "cell_type": "code",
   "execution_count": 5,
   "id": "18bf32cc",
   "metadata": {},
   "outputs": [
    {
     "data": {
      "text/plain": [
       "(60, 15)"
      ]
     },
     "execution_count": 5,
     "metadata": {},
     "output_type": "execute_result"
    }
   ],
   "source": [
    "data[0].shape"
   ]
  },
  {
   "cell_type": "code",
   "execution_count": 8,
   "id": "c1e57636",
   "metadata": {},
   "outputs": [],
   "source": [
    "from sklearn import preprocessing\n",
    "le = preprocessing.LabelEncoder()\n",
    "le.fit(labels)\n",
    "labels=le.transform(labels) \n",
    "\n",
    "from keras import optimizers\n",
    "\n",
    "from sklearn.model_selection import train_test_split\n",
    "X_train, X_test, y_train, y_test = train_test_split(data, labels, test_size=0.3, random_state=31)\n",
    "X_test, X_predict, y_test, y_predict =train_test_split(X_test, y_test, test_size=0.1, random_state=31)"
   ]
  },
  {
   "cell_type": "code",
   "execution_count": 9,
   "id": "d0e18408",
   "metadata": {},
   "outputs": [
    {
     "data": {
      "text/plain": [
       "(1085, 60, 15)"
      ]
     },
     "execution_count": 9,
     "metadata": {},
     "output_type": "execute_result"
    }
   ],
   "source": [
    "X_train.shape\n"
   ]
  },
  {
   "cell_type": "code",
   "execution_count": 10,
   "id": "b0a054bb",
   "metadata": {},
   "outputs": [
    {
     "data": {
      "text/plain": [
       "(419, 60, 15)"
      ]
     },
     "execution_count": 10,
     "metadata": {},
     "output_type": "execute_result"
    }
   ],
   "source": [
    "X_test.shape"
   ]
  },
  {
   "cell_type": "code",
   "execution_count": 11,
   "id": "688987ac",
   "metadata": {},
   "outputs": [
    {
     "data": {
      "text/plain": [
       "(47, 60, 15)"
      ]
     },
     "execution_count": 11,
     "metadata": {},
     "output_type": "execute_result"
    }
   ],
   "source": [
    "X_predict.shape"
   ]
  },
  {
   "cell_type": "code",
   "execution_count": 12,
   "id": "2dff8122",
   "metadata": {},
   "outputs": [
    {
     "data": {
      "text/plain": [
       "60"
      ]
     },
     "execution_count": 12,
     "metadata": {},
     "output_type": "execute_result"
    }
   ],
   "source": [
    "data.shape[1]"
   ]
  },
  {
   "cell_type": "code",
   "execution_count": 13,
   "id": "9ff1b8dd",
   "metadata": {},
   "outputs": [
    {
     "data": {
      "text/plain": [
       "15"
      ]
     },
     "execution_count": 13,
     "metadata": {},
     "output_type": "execute_result"
    }
   ],
   "source": [
    "data.shape[2]"
   ]
  },
  {
   "cell_type": "code",
   "execution_count": 14,
   "id": "9edc0540",
   "metadata": {},
   "outputs": [],
   "source": [
    "from keras.models import Sequential\n",
    "from keras.layers import Dense\n",
    "from keras.layers import *\n",
    "\n",
    "\n",
    "from keras.models import Model\n",
    "from keras.layers import Input, PReLU, Dense, LSTM, multiply, concatenate, Activation\n",
    "from keras.layers import Conv1D, BatchNormalization, GlobalAveragePooling1D, Permute, Dropout\n",
    "from keras.callbacks import ModelCheckpoint\n",
    "from tensorflow import keras\n",
    "from tensorflow.keras import layers\n",
    "\n",
    "ip = Input(shape=(data.shape[1], data.shape[2]))\n",
    "x = Permute((2, 1))(ip)\n",
    "x=LSTM(10)(x)\n",
    "x = Dropout(0.8)(x)\n",
    "y = Conv1D(128, 8, padding='same', kernel_initializer='he_uniform')(ip)\n",
    "y = BatchNormalization()(y)\n",
    "y = Activation('relu')(y)\n",
    "y = Conv1D(256, 5, padding='same', kernel_initializer='he_uniform')(y)\n",
    "y = BatchNormalization()(y)\n",
    "y = Activation('relu')(y)\n",
    "y = Conv1D(128, 3, padding='same', kernel_initializer='he_uniform')(y)\n",
    "y = BatchNormalization()(y)\n",
    "y = Activation('relu')(y)\n",
    "y = GlobalAveragePooling1D()(y)\n",
    "x = concatenate([x, y])\n",
    "out = Dense(10, activation='sigmoid')(y)\n",
    "model = Model(ip, out)\n",
    "\n"
   ]
  },
  {
   "cell_type": "code",
   "execution_count": 15,
   "id": "9c8fcb30",
   "metadata": {},
   "outputs": [
    {
     "name": "stdout",
     "output_type": "stream",
     "text": [
      "Model: \"model\"\n",
      "_________________________________________________________________\n",
      " Layer (type)                Output Shape              Param #   \n",
      "=================================================================\n",
      " input_1 (InputLayer)        [(None, 60, 15)]          0         \n",
      "                                                                 \n",
      " conv1d (Conv1D)             (None, 60, 128)           15488     \n",
      "                                                                 \n",
      " batch_normalization (BatchN  (None, 60, 128)          512       \n",
      " ormalization)                                                   \n",
      "                                                                 \n",
      " activation (Activation)     (None, 60, 128)           0         \n",
      "                                                                 \n",
      " conv1d_1 (Conv1D)           (None, 60, 256)           164096    \n",
      "                                                                 \n",
      " batch_normalization_1 (Batc  (None, 60, 256)          1024      \n",
      " hNormalization)                                                 \n",
      "                                                                 \n",
      " activation_1 (Activation)   (None, 60, 256)           0         \n",
      "                                                                 \n",
      " conv1d_2 (Conv1D)           (None, 60, 128)           98432     \n",
      "                                                                 \n",
      " batch_normalization_2 (Batc  (None, 60, 128)          512       \n",
      " hNormalization)                                                 \n",
      "                                                                 \n",
      " activation_2 (Activation)   (None, 60, 128)           0         \n",
      "                                                                 \n",
      " global_average_pooling1d (G  (None, 128)              0         \n",
      " lobalAveragePooling1D)                                          \n",
      "                                                                 \n",
      " dense (Dense)               (None, 10)                1290      \n",
      "                                                                 \n",
      "=================================================================\n",
      "Total params: 281,354\n",
      "Trainable params: 280,330\n",
      "Non-trainable params: 1,024\n",
      "_________________________________________________________________\n"
     ]
    }
   ],
   "source": [
    "model.summary()"
   ]
  },
  {
   "cell_type": "code",
   "execution_count": 17,
   "id": "e808341a",
   "metadata": {},
   "outputs": [
    {
     "name": "stdout",
     "output_type": "stream",
     "text": [
      "Epoch 1/10\n",
      "9/9 - 5s - loss: 0.3623 - accuracy: 0.8765 - val_loss: 0.6827 - val_accuracy: 0.7422 - 5s/epoch - 535ms/step\n",
      "Epoch 2/10\n",
      "9/9 - 2s - loss: 0.3159 - accuracy: 0.9069 - val_loss: 0.7419 - val_accuracy: 0.7327 - 2s/epoch - 188ms/step\n",
      "Epoch 3/10\n",
      "9/9 - 2s - loss: 0.2841 - accuracy: 0.9115 - val_loss: 0.6252 - val_accuracy: 0.7685 - 2s/epoch - 182ms/step\n",
      "Epoch 4/10\n",
      "9/9 - 2s - loss: 0.2465 - accuracy: 0.9373 - val_loss: 0.6419 - val_accuracy: 0.7685 - 2s/epoch - 189ms/step\n",
      "Epoch 5/10\n",
      "9/9 - 2s - loss: 0.2310 - accuracy: 0.9355 - val_loss: 0.5527 - val_accuracy: 0.7804 - 2s/epoch - 189ms/step\n",
      "Epoch 6/10\n",
      "9/9 - 2s - loss: 0.2143 - accuracy: 0.9281 - val_loss: 0.5502 - val_accuracy: 0.8067 - 2s/epoch - 183ms/step\n",
      "Epoch 7/10\n",
      "9/9 - 2s - loss: 0.2102 - accuracy: 0.9419 - val_loss: 0.5254 - val_accuracy: 0.7971 - 2s/epoch - 184ms/step\n",
      "Epoch 8/10\n",
      "9/9 - 2s - loss: 0.1892 - accuracy: 0.9502 - val_loss: 0.4929 - val_accuracy: 0.7995 - 2s/epoch - 186ms/step\n",
      "Epoch 9/10\n",
      "9/9 - 2s - loss: 0.1680 - accuracy: 0.9594 - val_loss: 0.4803 - val_accuracy: 0.8138 - 2s/epoch - 187ms/step\n",
      "Epoch 10/10\n",
      "9/9 - 2s - loss: 0.1647 - accuracy: 0.9548 - val_loss: 0.5447 - val_accuracy: 0.7757 - 2s/epoch - 181ms/step\n"
     ]
    }
   ],
   "source": [
    "model.compile(loss='sparse_categorical_crossentropy', optimizer='adam', metrics=['accuracy'])\n",
    "history = model.fit(X_train, y_train, validation_data=(X_test,y_test), epochs=10, batch_size=128, verbose=2)"
   ]
  },
  {
   "cell_type": "code",
   "execution_count": 18,
   "id": "698d2d13",
   "metadata": {},
   "outputs": [],
   "source": [
    "model.save('Driver_Profiling.h5')"
   ]
  },
  {
   "cell_type": "code",
   "execution_count": 19,
   "id": "6c199b40",
   "metadata": {},
   "outputs": [
    {
     "name": "stdout",
     "output_type": "stream",
     "text": [
      "14/14 [==============================] - 0s 20ms/step - loss: 0.5447 - accuracy: 0.7757\n"
     ]
    },
    {
     "data": {
      "text/plain": [
       "[0.5447229146957397, 0.7756563425064087]"
      ]
     },
     "execution_count": 19,
     "metadata": {},
     "output_type": "execute_result"
    }
   ],
   "source": [
    "model.evaluate(X_test, y_test)"
   ]
  },
  {
   "cell_type": "code",
   "execution_count": 20,
   "id": "b99ca999",
   "metadata": {},
   "outputs": [
    {
     "name": "stdout",
     "output_type": "stream",
     "text": [
      "dict_keys(['loss', 'accuracy', 'val_loss', 'val_accuracy'])\n"
     ]
    },
    {
     "data": {
      "image/png": "[encoded data removed]",
      "text/plain": [
       "<Figure size 640x480 with 1 Axes>"
      ]
     },
     "metadata": {},
     "output_type": "display_data"
    },
    {
     "data": {
      "image/png": "[encoded data removed]",
      "text/plain": [
       "<Figure size 640x480 with 1 Axes>"
      ]
     },
     "metadata": {},
     "output_type": "display_data"
    }
   ],
   "source": [
    "print(history.history.keys())\n",
    "plt.plot(history.history['accuracy'])\n",
    "plt.plot(history.history['val_accuracy'])\n",
    "plt.title('model accuracy')\n",
    "plt.ylabel('accuracy')\n",
    "plt.xlabel('epoch')\n",
    "plt.legend(['train','test'], loc='upper left')\n",
    "plt.show()\n",
    "\n",
    "plt.plot(history.history['loss'])\n",
    "plt.plot(history.history['val_loss'])\n",
    "plt.title('model loss')\n",
    "plt.ylabel('loss')\n",
    "plt.xlabel('epoch')\n",
    "plt.legend(['train','test'], loc='upper left')\n",
    "plt.show()"
   ]
  },
  {
   "cell_type": "code",
   "execution_count": null,
   "id": "97dd7ab0",
   "metadata": {},
   "outputs": [],
   "source": [
    "import sys\n",
    "sys.path.insert(0, 'MLSTM-FCN/utils')\n",
    "from layer_utils import AttentionLSTM\n",
    "\n"
   ]
  },
  {
   "cell_type": "code",
   "execution_count": 21,
   "id": "59fb9ef8",
   "metadata": {},
   "outputs": [
    {
     "name": "stdout",
     "output_type": "stream",
     "text": [
      "14/14 [==============================] - 0s 20ms/step - loss: 0.5447 - accuracy: 0.7757\n",
      " 1/14 [=>............................] - ETA: 0s - loss: 0.5676 - accuracy: 0.7812"
     ]
    },
    {
     "name": "stderr",
     "output_type": "stream",
     "text": [
      "C:\\Users\\SIDDHI MANGALAM\\AppData\\Local\\Temp\\ipykernel_13840\\1950611545.py:25: FutureWarning: The frame.append method is deprecated and will be removed from pandas in a future version. Use pandas.concat instead.\n",
      "  results = results.append({'Rate': str(rate*100)+\"%\",'Rows': str(row)+\"\",'Sensors': str(sensor)+\"\",'Accuracy': acc}, ignore_index=True)\n"
     ]
    },
    {
     "name": "stdout",
     "output_type": "stream",
     "text": [
      "14/14 [==============================] - 0s 21ms/step - loss: 0.5447 - accuracy: 0.7757\n",
      "0\n",
      " 1/14 [=>............................] - ETA: 0s - loss: 0.5676 - accuracy: 0.7812"
     ]
    },
    {
     "name": "stderr",
     "output_type": "stream",
     "text": [
      "C:\\Users\\SIDDHI MANGALAM\\AppData\\Local\\Temp\\ipykernel_13840\\1950611545.py:25: FutureWarning: The frame.append method is deprecated and will be removed from pandas in a future version. Use pandas.concat instead.\n",
      "  results = results.append({'Rate': str(rate*100)+\"%\",'Rows': str(row)+\"\",'Sensors': str(sensor)+\"\",'Accuracy': acc}, ignore_index=True)\n"
     ]
    },
    {
     "name": "stdout",
     "output_type": "stream",
     "text": [
      "14/14 [==============================] - 0s 20ms/step - loss: 8.4124 - accuracy: 0.7733\n",
      "0\n",
      " 1/14 [=>............................] - ETA: 0s - loss: 17.8762 - accuracy: 0.7500"
     ]
    },
    {
     "name": "stderr",
     "output_type": "stream",
     "text": [
      "C:\\Users\\SIDDHI MANGALAM\\AppData\\Local\\Temp\\ipykernel_13840\\1950611545.py:25: FutureWarning: The frame.append method is deprecated and will be removed from pandas in a future version. Use pandas.concat instead.\n",
      "  results = results.append({'Rate': str(rate*100)+\"%\",'Rows': str(row)+\"\",'Sensors': str(sensor)+\"\",'Accuracy': acc}, ignore_index=True)\n"
     ]
    },
    {
     "name": "stdout",
     "output_type": "stream",
     "text": [
      "14/14 [==============================] - 0s 23ms/step - loss: 17.2848 - accuracy: 0.7733\n",
      "0\n",
      " 1/14 [=>............................] - ETA: 0s - loss: 49.9900 - accuracy: 0.7188"
     ]
    },
    {
     "name": "stderr",
     "output_type": "stream",
     "text": [
      "C:\\Users\\SIDDHI MANGALAM\\AppData\\Local\\Temp\\ipykernel_13840\\1950611545.py:25: FutureWarning: The frame.append method is deprecated and will be removed from pandas in a future version. Use pandas.concat instead.\n",
      "  results = results.append({'Rate': str(rate*100)+\"%\",'Rows': str(row)+\"\",'Sensors': str(sensor)+\"\",'Accuracy': acc}, ignore_index=True)\n"
     ]
    },
    {
     "name": "stdout",
     "output_type": "stream",
     "text": [
      "14/14 [==============================] - 0s 20ms/step - loss: 47.8077 - accuracy: 0.7112\n",
      "0\n",
      " 1/14 [=>............................] - ETA: 0s - loss: 259.4438 - accuracy: 0.6875"
     ]
    },
    {
     "name": "stderr",
     "output_type": "stream",
     "text": [
      "C:\\Users\\SIDDHI MANGALAM\\AppData\\Local\\Temp\\ipykernel_13840\\1950611545.py:25: FutureWarning: The frame.append method is deprecated and will be removed from pandas in a future version. Use pandas.concat instead.\n",
      "  results = results.append({'Rate': str(rate*100)+\"%\",'Rows': str(row)+\"\",'Sensors': str(sensor)+\"\",'Accuracy': acc}, ignore_index=True)\n"
     ]
    },
    {
     "name": "stdout",
     "output_type": "stream",
     "text": [
      "14/14 [==============================] - 0s 19ms/step - loss: 269.2149 - accuracy: 0.7232\n",
      "0\n",
      " 1/14 [=>............................] - ETA: 0s - loss: 197.2160 - accuracy: 0.5625"
     ]
    },
    {
     "name": "stderr",
     "output_type": "stream",
     "text": [
      "C:\\Users\\SIDDHI MANGALAM\\AppData\\Local\\Temp\\ipykernel_13840\\1950611545.py:25: FutureWarning: The frame.append method is deprecated and will be removed from pandas in a future version. Use pandas.concat instead.\n",
      "  results = results.append({'Rate': str(rate*100)+\"%\",'Rows': str(row)+\"\",'Sensors': str(sensor)+\"\",'Accuracy': acc}, ignore_index=True)\n"
     ]
    },
    {
     "name": "stdout",
     "output_type": "stream",
     "text": [
      "14/14 [==============================] - 0s 20ms/step - loss: 130.4946 - accuracy: 0.6348\n",
      "0\n"
     ]
    },
    {
     "name": "stderr",
     "output_type": "stream",
     "text": [
      "C:\\Users\\SIDDHI MANGALAM\\AppData\\Local\\Temp\\ipykernel_13840\\1950611545.py:25: FutureWarning: The frame.append method is deprecated and will be removed from pandas in a future version. Use pandas.concat instead.\n",
      "  results = results.append({'Rate': str(rate*100)+\"%\",'Rows': str(row)+\"\",'Sensors': str(sensor)+\"\",'Accuracy': acc}, ignore_index=True)\n"
     ]
    },
    {
     "name": "stdout",
     "output_type": "stream",
     "text": [
      "14/14 [==============================] - 0s 18ms/step - loss: 802.4320 - accuracy: 0.6396\n",
      "0\n",
      " 4/14 [=======>......................] - ETA: 0s - loss: 232.1292 - accuracy: 0.5625"
     ]
    },
    {
     "name": "stderr",
     "output_type": "stream",
     "text": [
      "C:\\Users\\SIDDHI MANGALAM\\AppData\\Local\\Temp\\ipykernel_13840\\1950611545.py:25: FutureWarning: The frame.append method is deprecated and will be removed from pandas in a future version. Use pandas.concat instead.\n",
      "  results = results.append({'Rate': str(rate*100)+\"%\",'Rows': str(row)+\"\",'Sensors': str(sensor)+\"\",'Accuracy': acc}, ignore_index=True)\n"
     ]
    },
    {
     "name": "stdout",
     "output_type": "stream",
     "text": [
      "14/14 [==============================] - 0s 21ms/step - loss: 205.0714 - accuracy: 0.5656\n",
      "0\n",
      " 1/14 [=>............................] - ETA: 0s - loss: 1020.1887 - accuracy: 0.5625"
     ]
    },
    {
     "name": "stderr",
     "output_type": "stream",
     "text": [
      "C:\\Users\\SIDDHI MANGALAM\\AppData\\Local\\Temp\\ipykernel_13840\\1950611545.py:25: FutureWarning: The frame.append method is deprecated and will be removed from pandas in a future version. Use pandas.concat instead.\n",
      "  results = results.append({'Rate': str(rate*100)+\"%\",'Rows': str(row)+\"\",'Sensors': str(sensor)+\"\",'Accuracy': acc}, ignore_index=True)\n"
     ]
    },
    {
     "name": "stdout",
     "output_type": "stream",
     "text": [
      "14/14 [==============================] - 0s 20ms/step - loss: 1252.8104 - accuracy: 0.5513\n",
      "    Rate Rows Sensors  Accuracy\n",
      "0     0%    1       7     77.57\n",
      "1     0%   10       7     77.57\n",
      "2   1.0%    1       7     77.33\n",
      "3   1.0%   10       7     77.33\n",
      "4  10.0%    1       7     71.12\n",
      "5  10.0%   10       7     72.32\n",
      "6  30.0%    1       7     63.48\n",
      "7  30.0%   10       7     63.96\n",
      "8  50.0%    1       7     56.56\n",
      "9  50.0%   10       7     55.13\n"
     ]
    },
    {
     "name": "stderr",
     "output_type": "stream",
     "text": [
      "C:\\Users\\SIDDHI MANGALAM\\AppData\\Local\\Temp\\ipykernel_13840\\1950611545.py:25: FutureWarning: The frame.append method is deprecated and will be removed from pandas in a future version. Use pandas.concat instead.\n",
      "  results = results.append({'Rate': str(rate*100)+\"%\",'Rows': str(row)+\"\",'Sensors': str(sensor)+\"\",'Accuracy': acc}, ignore_index=True)\n"
     ]
    }
   ],
   "source": [
    "import random\n",
    "rates=[0,0.01,0.1,0.3,0.5]\n",
    "rows=[1,10]\n",
    "sensors=[7]\n",
    "\n",
    "results=pd.DataFrame(columns=[\"Rate\",\"Rows\",\"Sensors\",\"Accuracy\"])\n",
    "for rate in rates:\n",
    "  for row in rows:\n",
    "    for sensor in sensors:\n",
    "      X_test2=X_test.copy()\n",
    "      total=X_test.shape[0]*X_test.shape[1]*X_test.shape[2]\n",
    "      total=int(311*rate)\n",
    "      n=sensor\n",
    "      nrows=row\n",
    "      for i in range(total):\n",
    "        if(i%10000==0):\n",
    "          print(i)\n",
    "        fst=random.randint(0,X_test.shape[0]-1)\n",
    "        snd=random.randint(0,X_test.shape[1]-nrows)\n",
    "        trh2=random.sample(range(0, X_test.shape[2]), n)\n",
    "        for j in range(n):\n",
    "          for jj in range(nrows):\n",
    "            X_test2[fst][snd+jj][trh2[j]]=X_test2[fst][snd+jj][trh2[j]]+3000\n",
    "      acc=round(model.evaluate(X_test2, y_test)[1]*100,2)\n",
    "      results = results.append({'Rate': str(rate*100)+\"%\",'Rows': str(row)+\"\",'Sensors': str(sensor)+\"\",'Accuracy': acc}, ignore_index=True)\n",
    "\n",
    "        \n",
    "print(results)"
   ]
  },
  {
   "cell_type": "code",
   "execution_count": 22,
   "id": "d4b9df0a",
   "metadata": {},
   "outputs": [],
   "source": [
    "model =keras.models.load_model('Driver_Profiling.h5')"
   ]
  },
  {
   "cell_type": "code",
   "execution_count": 36,
   "id": "db4a6848",
   "metadata": {},
   "outputs": [],
   "source": [
    "Live_Data= np.expand_dims(X_predict[10],axis=0)"
   ]
  },
  {
   "cell_type": "code",
   "execution_count": 24,
   "id": "85186b75",
   "metadata": {},
   "outputs": [
    {
     "data": {
      "text/plain": [
       "(60, 15)"
      ]
     },
     "execution_count": 24,
     "metadata": {},
     "output_type": "execute_result"
    }
   ],
   "source": [
    "X_predict[1].shape"
   ]
  },
  {
   "cell_type": "code",
   "execution_count": 25,
   "id": "6785f2ff",
   "metadata": {},
   "outputs": [
    {
     "data": {
      "text/plain": [
       "array([[[-1.20132885,  1.36150927, -0.48442561, -0.27860847,\n",
       "          1.19332582,  0.27347669,  0.45313868,  1.08571287,\n",
       "          0.80689285,  0.81418371,  1.89457971, -0.73189734,\n",
       "         -0.75492777, -0.7275848 , -0.84390211],\n",
       "        [-1.18640411,  1.477355  , -0.48442561, -0.31435071,\n",
       "          1.31769264,  0.36620547,  0.44113292,  1.26890673,\n",
       "          0.89293393,  0.96732974,  2.05498343, -1.07632913,\n",
       "         -1.09803863, -1.0796303 , -1.2712003 ],\n",
       "        [-1.77905474,  1.49179052, -0.48442561, -0.42188585,\n",
       "          1.42575507,  0.47835202,  0.36202355,  1.20058219,\n",
       "          0.96769508,  1.17527059,  2.19435833, -1.19303361,\n",
       "         -1.18801937, -1.19140738, -1.89521198],\n",
       "        [-1.77905474,  1.51771017, -0.48442561, -0.51206285,\n",
       "          1.4719972 ,  0.39291287,  0.47331317,  1.26563619,\n",
       "          0.99968692,  1.23289948,  2.25399972, -1.21012392,\n",
       "         -1.18801937, -1.20859724, -1.91363998],\n",
       "        [-1.77905474,  1.56579994, -0.48442561, -0.51191152,\n",
       "          1.47289678,  0.28159397,  0.47375365,  1.32765367,\n",
       "          1.00030928,  1.23402058,  2.25515997, -1.21012392,\n",
       "         -1.18801937, -1.20859724, -1.91363998],\n",
       "        [-1.77905474,  1.56580361, -0.48442561, -0.51191044,\n",
       "          1.47290321,  0.39566675,  0.4737568 ,  1.29698698,\n",
       "          1.00031373,  1.23402859,  2.25516826, -1.21012392,\n",
       "         -1.18801937, -1.20859724, -1.91363998],\n",
       "        [-1.77905474,  1.61428865, -0.48442561, -0.51164921,\n",
       "          1.47445609,  0.2862987 ,  0.51926855,  1.35952235,\n",
       "          1.00138806,  1.23596386,  2.25717111, -1.21012392,\n",
       "         -1.18801937, -1.20859724, -1.91363998],\n",
       "        [-1.77905474,  1.61268411, -0.48442561, -0.47916605,\n",
       "          1.47168585,  0.27794038,  0.51788777,  1.3880598 ,\n",
       "          0.99947152,  1.30806504,  2.25359815, -1.21012392,\n",
       "         -1.18801937, -1.20859724, -1.91363998],\n",
       "        [-1.77905474,  1.56600515, -0.48442561, -0.54481029,\n",
       "          1.47325687,  0.28268044,  0.47392997,  1.35860167,\n",
       "          1.0005584 ,  1.31004623,  2.2556244 , -1.21012392,\n",
       "         -1.18801937, -1.20859724, -1.91363998],\n",
       "        [-1.77905474,  1.61448899, -0.48442561, -0.54456036,\n",
       "          1.47480199,  0.28734233,  0.51944095,  1.35978791,\n",
       "          1.00162736,  1.31199474,  2.25761723, -1.21012392,\n",
       "         -1.18801937, -1.20859724, -1.91363998],\n",
       "        [-1.77905474,  1.61391025, -0.48442561, -0.54472199,\n",
       "          1.47380278,  0.28432754,  0.47419727,  1.35902078,\n",
       "          1.00093608,  1.38631965,  2.2563285 , -1.21012392,\n",
       "         -1.18801937, -1.20859724, -1.91363998],\n",
       "        [-1.77905474,  1.61592247, -0.48442561, -0.57714539,\n",
       "          1.47727689,  0.29480956,  0.52067452,  1.39238589,\n",
       "          1.00333959,  1.39075231,  2.26080927, -1.21012392,\n",
       "         -1.18801937, -1.20859724, -1.91363998],\n",
       "        [-1.77905474,  1.61592069, -0.48442561, -0.57714587,\n",
       "          1.47727382,  0.29480029,  0.55425508,  1.42308142,\n",
       "          1.00333746,  1.39074839,  2.26080531, -1.21012392,\n",
       "         -1.18801937, -1.20859724, -1.91363998],\n",
       "        [-1.77905474,  1.66330992, -0.48442561, -0.57720845,\n",
       "          1.47687079,  0.29358429,  0.55405155,  1.5071797 ,\n",
       "          1.00305863,  1.39023416,  2.2602855 , -1.21012392,\n",
       "         -1.18801937, -1.20859724, -1.91363998],\n",
       "        [-1.77905474,  1.71164798, -0.48442561, -0.57702265,\n",
       "          1.47806732,  0.29719441,  0.64422201,  1.53883521,\n",
       "          1.00388643,  1.46740908,  2.26182873, -1.21012392,\n",
       "         -1.18801937, -1.20859724, -1.91363998],\n",
       "        [-1.77905474,  1.75886249, -0.48442561, -0.57712989,\n",
       "          1.47737674,  0.29511081,  0.64386113,  1.56897964,\n",
       "          1.00340866,  1.46651771,  2.26093805, -1.21012392,\n",
       "         -1.18801937, -1.20859724, -1.91363998],\n",
       "        [-1.77905474,  1.66101684, -0.48442561, -0.54485595,\n",
       "          1.4729746 ,  0.28182878,  0.59682228,  1.50407703,\n",
       "          1.00036312,  1.46083566,  2.25526034, -1.21012392,\n",
       "         -1.18801937, -1.20859724, -1.91363998],\n",
       "        [-1.77905474,  1.66361565, -0.48442561, -0.61011388,\n",
       "          1.47739025,  0.29515159,  0.59909104,  1.47689476,\n",
       "          1.00341801,  1.46653516,  2.26095548, -1.21012392,\n",
       "         -1.18801937, -1.20859724, -1.91363998],\n",
       "        [-1.77905474,  1.70876979, -0.48442561, -0.54481085,\n",
       "          1.47325339,  0.28266994,  0.59696552,  1.53497273,\n",
       "          1.000556  ,  1.4611955 ,  2.25561991, -1.21012392,\n",
       "         -1.18801937, -1.20859724, -1.91363998],\n",
       "        [-1.77905474,  1.70977331, -0.48442561, -0.57750954,\n",
       "          1.47493183,  0.28773409,  0.5978279 ,  1.50563564,\n",
       "          1.0017172 ,  1.46336195,  2.2577847 , -1.21012392,\n",
       "         -1.18801937, -1.20859724, -1.91363998],\n",
       "        [-1.77905474,  1.6606472 , -0.48442561, -0.54495754,\n",
       "          1.60294066,  0.27993381,  0.55176672,  1.44990748,\n",
       "          0.99992861,  1.46002499,  2.25445029, -1.21012392,\n",
       "         -1.18801937, -1.20859724, -1.91363998],\n",
       "        [-1.77905474,  1.71047347, -0.48442561, -0.5773277 ,\n",
       "          1.73748374,  0.29126734,  0.59842958,  1.53725903,\n",
       "          1.00252736,  1.46487348,  2.25929507, -1.21012392,\n",
       "         -1.18801937, -1.20859724, -1.91363998],\n",
       "        [-1.77905474,  1.70812998, -0.48442561, -0.54498395,\n",
       "          1.73336314,  0.27944121,  0.59641569,  1.50344687,\n",
       "          0.99981565,  1.45981425,  2.25423972, -1.21012392,\n",
       "         -1.18801937, -1.20859724, -1.91363998],\n",
       "        [-1.77905474,  1.66056891, -0.48442561, -0.54497906,\n",
       "          1.73339493,  0.27953246,  0.55169954,  1.47280352,\n",
       "          0.99983658,  1.45985329,  2.25427873, -1.21012392,\n",
       "         -1.18801937, -1.20859724, -1.91363998],\n",
       "        [-1.77905474,  1.66265508, -0.48442561, -0.57738123,\n",
       "          1.73712133,  0.29022722,  0.59825246,  1.47560488,\n",
       "          1.00228887,  1.46442851,  2.25885045, -1.21012392,\n",
       "         -1.18801937, -1.20859724, -1.91363998],\n",
       "        [-1.77905474,  1.70967801, -0.48442561, -0.57753429,\n",
       "          1.73608508,  0.28725318,  0.597746  ,  1.50550871,\n",
       "          1.00160692,  1.46315622,  2.25757913, -1.21012392,\n",
       "         -1.18801937, -1.20859724, -1.91363998],\n",
       "        [-1.77905474,  1.66154758, -0.48442561, -0.57767343,\n",
       "          1.73514307,  0.28454961,  0.55253932,  1.45110962,\n",
       "          1.000987  ,  1.46199963,  2.25642342, -1.21012392,\n",
       "         -1.18801937, -1.20859724, -1.91363998],\n",
       "        [-1.77905474,  1.6623018 , -0.48442561, -0.57747444,\n",
       "          1.73649029,  0.28841615,  0.5531865 ,  1.47513049,\n",
       "          1.00187359,  1.46365373,  2.25807626, -1.21012392,\n",
       "         -1.18801937, -1.20859724, -1.91363998],\n",
       "        [-1.77905474,  1.66236142, -0.48442561, -0.57745871,\n",
       "          1.73659678,  0.28872178,  0.55323766,  1.47521055,\n",
       "          1.00194367,  1.46378448,  2.25820691, -1.21012392,\n",
       "         -1.18801937, -1.20859724, -1.91363998],\n",
       "        [-1.77905474,  1.662755  , -0.48442561, -0.57735487,\n",
       "          1.73729981,  0.29073946,  0.55357538,  1.47573906,\n",
       "          1.00240632,  1.46464765,  2.25906942, -1.21012392,\n",
       "         -1.18801937, -1.20859724, -1.91363998],\n",
       "        [-1.77905474,  1.66106258, -0.48442561, -0.54484338,\n",
       "          1.73427675,  0.28206326,  0.55212315,  1.45046207,\n",
       "          1.00041689,  1.46093597,  2.25536058, -1.21012392,\n",
       "         -1.18801937, -1.20859724, -1.91363998],\n",
       "        [-1.77905474,  1.7107605 , -0.48442561, -0.57725315,\n",
       "          1.73798844,  0.29271584,  0.59867625,  1.47625675,\n",
       "          1.0028595 ,  1.46549314,  2.25991426, -1.21012392,\n",
       "         -1.18801937, -1.20859724, -1.91363998],\n",
       "        [-1.77905474,  1.66258398, -0.48442561, -0.57739999,\n",
       "          1.73699434,  0.28986275,  0.55342863,  1.45249338,\n",
       "          1.00220529,  1.46427259,  2.25869465, -1.21012392,\n",
       "         -1.18801937, -1.20859724, -1.91363998],\n",
       "        [-1.77905474,  1.66123699, -0.48442561, -0.54479544,\n",
       "          1.7345883 ,  0.28295742,  0.55227282,  1.45069495,\n",
       "          1.00062191,  1.46131849,  2.2557428 , -1.21012392,\n",
       "         -1.18801937, -1.20859724, -1.91363998],\n",
       "        [-1.77905474,  1.66296374, -0.48442561, -0.57729979,\n",
       "          1.73767267,  0.29180957,  0.55375449,  1.47601936,\n",
       "          1.00265169,  1.46510544,  2.25952686, -1.21012392,\n",
       "         -1.18801937, -1.20859724, -1.91363998],\n",
       "        [-1.77905474,  1.66259515, -0.48442561, -0.57739704,\n",
       "          1.73701429,  0.17580498,  0.55343822,  1.47552442,\n",
       "          1.00221842,  1.46429709,  2.25871913, -1.21012392,\n",
       "         -1.18801937, -1.20859724, -1.91363998],\n",
       "        [-1.77905474,  1.66238494, -0.48442561, -0.5774525 ,\n",
       "          1.73663881,  0.28884238,  0.55325784,  1.47524214,\n",
       "          1.00197132,  1.46383608,  2.25825847, -1.21012392,\n",
       "         -1.18801937, -1.20859724, -1.91363998],\n",
       "        [-1.77905474,  1.66314194, -0.48442561, -0.57725277,\n",
       "          1.73799099,  0.29272314,  0.55390741,  1.47625866,\n",
       "          1.00286117,  1.46549627,  2.25991739, -1.21012392,\n",
       "         -1.18801937, -1.20859724, -1.91363998],\n",
       "        [-1.77905474,  1.66371011, -0.48442561, -0.57710287,\n",
       "          1.73900586,  0.29563583,  0.5991735 ,  1.4770216 ,\n",
       "          1.00352905,  1.46674232,  2.26116248, -1.21012392,\n",
       "         -1.18801937, -1.20859724, -1.91363998],\n",
       "        [-1.77905474,  1.66239973, -0.48442561, -0.5774486 ,\n",
       "          1.73666522,  0.28891818,  0.55327053,  1.45224737,\n",
       "          1.0019887 ,  1.4638685 ,  2.25829087, -1.21012392,\n",
       "         -1.18801937, -1.20859724, -1.91363998],\n",
       "        [-1.77905474,  1.66106558, -0.48442561, -0.54484255,\n",
       "          1.73428211,  0.28207867,  0.51857141,  1.47347047,\n",
       "          1.00042042,  1.46094256,  2.25536716, -1.21012392,\n",
       "         -1.18801937, -1.20859724, -1.91363998],\n",
       "        [-1.77905474,  1.66276728, -0.48442561, -0.57735163,\n",
       "          1.73732174,  0.29080241,  0.55358592,  1.45273811,\n",
       "          1.00242075,  1.46467458,  2.25909632, -1.21012392,\n",
       "         -1.18801937, -1.20859724, -1.91363998],\n",
       "        [-1.77905474,  1.6642459 , -0.48442561, -0.60995452,\n",
       "          1.73996291,  0.29838257,  0.55485469,  1.47774108,\n",
       "          1.00415887,  1.46791737,  2.26233664, -1.21012392,\n",
       "         -1.18801937, -1.20859724, -1.91363998],\n",
       "        [-1.77905474,  1.66126394, -0.48442561, -0.54478803,\n",
       "          1.73463643,  0.28309557,  0.55229594,  1.47373683,\n",
       "          1.00065359,  1.46137759,  2.25580186, -1.21012392,\n",
       "         -1.18801937, -1.20859724, -1.91363998],\n",
       "        [-1.77905474,  1.66276257, -0.48442561, -0.57735287,\n",
       "          1.73731333,  0.29077828,  0.55358188,  1.45273182,\n",
       "          1.00241522,  1.46466425,  2.25908601, -1.21012392,\n",
       "         -1.18801937, -1.20859724, -1.91363998],\n",
       "        [-1.77905474,  1.66294773, -0.48442561, -0.57730402,\n",
       "          1.73764407,  0.29172749,  0.55374076,  1.45297904,\n",
       "          1.00263287,  1.46507033,  2.25949177, -1.21012392,\n",
       "         -1.18801937, -1.20859724, -1.91363998],\n",
       "        [-1.77905474,  1.66052604, -0.48442561, -0.54499084,\n",
       "          1.73331837,  0.27931271,  0.51811448,  1.44974571,\n",
       "          0.99978619,  1.45975928,  2.19041084, -1.21012392,\n",
       "         -1.18801937, -1.20859724, -1.91363998],\n",
       "        [-1.77905474,  1.66280618, -0.48442561, -0.57734136,\n",
       "          1.73739123,  0.29100184,  0.5536193 ,  1.47580779,\n",
       "          1.00246648,  1.4647599 ,  2.19535911, -1.21012392,\n",
       "         -1.18801937, -1.20859724, -1.91363998],\n",
       "        [-1.77905474,  1.66259162, -0.48442561, -0.57739797,\n",
       "          1.73700797,  0.28990189,  0.55343519,  1.45250357,\n",
       "          1.00221427,  1.46428934,  2.19489348, -1.21012392,\n",
       "         -1.18801937, -1.20859724, -1.91363998],\n",
       "        [-1.77905474,  1.66279465, -0.48442561, -0.5773444 ,\n",
       "          1.73737063,  0.29094273,  0.5536094 ,  1.45277465,\n",
       "          1.00245293,  1.46473461,  2.19533409, -1.21012392,\n",
       "         -1.18801937, -1.20859724, -1.91363998],\n",
       "        [-1.77905474,  1.66300365, -0.48442561, -0.57728926,\n",
       "          1.73774396,  0.29201417,  0.55378874,  1.47607295,\n",
       "          1.00269861,  1.46519297,  2.19578765, -1.21012392,\n",
       "         -1.18801937, -1.20859724, -1.91363998],\n",
       "        [-1.77905474,  1.66411467, -0.48442561, -0.6099877 ,\n",
       "          1.7397285 ,  0.2977098 ,  0.52115363,  1.45453707,\n",
       "          1.0040046 ,  1.46762956,  2.19819874, -1.21012392,\n",
       "         -1.18801937, -1.20859724, -1.91363998],\n",
       "        [-1.77905474,  1.6614844 , -0.48442561, -0.54472745,\n",
       "          1.73503021,  0.28422572,  0.51892609,  1.45102526,\n",
       "          1.00091273,  1.46186107,  2.19249062, -1.21012392,\n",
       "         -1.18801937, -1.20859724, -1.91363998],\n",
       "        [-1.77905474,  1.61592973, -0.48442561, -0.61012888,\n",
       "          1.73873114,  0.18069578,  0.52068076,  1.42309359,\n",
       "          1.00334826,  1.46640502,  2.19698702, -1.21012392,\n",
       "         -1.18801937, -1.20859724, -1.91363998],\n",
       "        [-1.77905474,  1.61612341, -0.48442561, -0.61007912,\n",
       "          1.73908268,  0.1816972 ,  0.52084743,  1.42335434,\n",
       "          1.0035796 ,  1.46683663,  2.19741411, -1.21012392,\n",
       "         -1.18801937, -1.20859724, -1.91363998],\n",
       "        [-1.77905474,  1.6624235 , -0.48442561, -0.57744233,\n",
       "          1.73670768,  0.28904006,  0.51972141,  1.45227912,\n",
       "          1.00201665,  1.46392064,  2.19452864, -1.21012392,\n",
       "         -1.18801937, -1.20859724, -1.91363998],\n",
       "        [-1.77905474,  1.6642887 , -0.48442561, -0.6099437 ,\n",
       "          1.74003937,  0.298602  ,  0.55489142,  1.42406395,\n",
       "          1.00420918,  1.46801125,  2.19857643, -1.21012392,\n",
       "         -1.18801937, -1.20859724, -1.91363998],\n",
       "        [-1.77905474,  1.66446494, -0.48442561, -0.60989914,\n",
       "          1.74035417,  0.18531929,  0.55504264,  1.45500474,\n",
       "          1.00441635,  1.46839775,  2.19895889, -1.21012392,\n",
       "         -1.18801937, -1.20859724, -1.91363998],\n",
       "        [-1.77905474,  1.66299181, -0.48442561, -0.57729238,\n",
       "          1.73772282,  0.2919535 ,  0.55377858,  1.4530379 ,\n",
       "          1.0026847 ,  1.46516701,  2.19576197, -1.21012392,\n",
       "         -1.18801937, -1.20859724, -1.91363998],\n",
       "        [-1.77905474,  1.61520304, -0.48442561, -0.57733827,\n",
       "          1.73741216,  0.29106192,  0.52005542,  1.45280569,\n",
       "          1.00248026,  1.4647856 ,  2.19538454, -1.21012392,\n",
       "         -1.18801937, -1.20859724, -1.91363998]]])"
      ]
     },
     "execution_count": 25,
     "metadata": {},
     "output_type": "execute_result"
    }
   ],
   "source": [
    "Live_Data"
   ]
  },
  {
   "cell_type": "code",
   "execution_count": 26,
   "id": "a6f04698",
   "metadata": {},
   "outputs": [
    {
     "data": {
      "text/plain": [
       "(1, 60, 15)"
      ]
     },
     "execution_count": 26,
     "metadata": {},
     "output_type": "execute_result"
    }
   ],
   "source": [
    "Live_Data.shape"
   ]
  },
  {
   "cell_type": "code",
   "execution_count": 37,
   "id": "5acc247d",
   "metadata": {},
   "outputs": [
    {
     "name": "stdout",
     "output_type": "stream",
     "text": [
      "1/1 [==============================] - 0s 38ms/step\n"
     ]
    }
   ],
   "source": [
    "pred = model.predict(Live_Data)"
   ]
  },
  {
   "cell_type": "code",
   "execution_count": 28,
   "id": "f20ffd53",
   "metadata": {},
   "outputs": [
    {
     "data": {
      "text/plain": [
       "array([[0.99960303, 0.12175708, 0.02143989, 0.02960223, 0.21228309,\n",
       "        0.16210207, 0.62265265, 0.20330425, 0.1664377 , 0.06755012]],\n",
       "      dtype=float32)"
      ]
     },
     "execution_count": 28,
     "metadata": {},
     "output_type": "execute_result"
    }
   ],
   "source": [
    "pred"
   ]
  },
  {
   "cell_type": "code",
   "execution_count": 38,
   "id": "0c03cbce",
   "metadata": {},
   "outputs": [
    {
     "data": {
      "text/plain": [
       "5"
      ]
     },
     "execution_count": 38,
     "metadata": {},
     "output_type": "execute_result"
    }
   ],
   "source": [
    "np.argmax(pred)"
   ]
  },
  {
   "cell_type": "code",
   "execution_count": 39,
   "id": "b9465c3e",
   "metadata": {},
   "outputs": [
    {
     "data": {
      "text/plain": [
       "5"
      ]
     },
     "execution_count": 39,
     "metadata": {},
     "output_type": "execute_result"
    }
   ],
   "source": [
    "y_predict[10]"
   ]
  },
  {
   "cell_type": "code",
   "execution_count": 31,
   "id": "b70e1d11",
   "metadata": {},
   "outputs": [
    {
     "data": {
      "text/plain": [
       "array([1, 0, 3, 4, 6, 4, 3, 1, 9, 5, 5, 8, 9, 4, 1, 3, 0, 1, 6, 7, 1, 3,\n",
       "       9, 8, 2, 6, 8, 3, 5, 1, 3, 1, 7, 3, 5, 7, 5, 1, 1, 6, 9, 0, 2, 0,\n",
       "       1, 3, 6], dtype=int64)"
      ]
     },
     "execution_count": 31,
     "metadata": {},
     "output_type": "execute_result"
    }
   ],
   "source": [
    "y_predict"
   ]
  },
  {
   "cell_type": "code",
   "execution_count": 32,
   "id": "23505be5",
   "metadata": {},
   "outputs": [
    {
     "data": {
      "text/plain": [
       "(47,)"
      ]
     },
     "execution_count": 32,
     "metadata": {},
     "output_type": "execute_result"
    }
   ],
   "source": [
    "y_predict.shape"
   ]
  },
  {
   "cell_type": "code",
   "execution_count": null,
   "id": "a6d4d1ff",
   "metadata": {},
   "outputs": [],
   "source": []
  },
  {
   "cell_type": "code",
   "execution_count": null,
   "id": "78decde4",
   "metadata": {},
   "outputs": [],
   "source": []
  },
  {
   "cell_type": "code",
   "execution_count": null,
   "id": "ade17077",
   "metadata": {},
   "outputs": [],
   "source": []
  },
  {
   "cell_type": "code",
   "execution_count": null,
   "id": "93e8c4cf",
   "metadata": {},
   "outputs": [],
   "source": []
  }
 ],
 "metadata": {
  "kernelspec": {
   "display_name": "Python 3 (ipykernel)",
   "language": "python",
   "name": "python3"
  },
  "language_info": {
   "codemirror_mode": {
    "name": "ipython",
    "version": 3
   },
   "file_extension": ".py",
   "mimetype": "text/x-python",
   "name": "python",
   "nbconvert_exporter": "python",
   "pygments_lexer": "ipython3",
   "version": "3.10.0"
  }
 },
 "nbformat": 4,
 "nbformat_minor": 5
}
